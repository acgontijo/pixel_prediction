{
 "cells": [
  {
   "cell_type": "code",
   "execution_count": 1,
   "id": "fa8545bf-1d15-4672-b320-b1b3aff76031",
   "metadata": {},
   "outputs": [
    {
     "name": "stdout",
     "output_type": "stream",
     "text": [
      "2016 Images: 1566\n",
      "2016 Targets: 1565\n",
      "2021 Images: 1566\n",
      "2021 Targets: 1565\n"
     ]
    }
   ],
   "source": [
    "import os\n",
    "\n",
    "# Caminhos das pastas\n",
    "images_2016_path = \"../data/filtered/images_2016\"\n",
    "targets_2016_path = \"../data/filtered/targets_2016\"\n",
    "images_2021_path = \"../data/filtered/images_2021\"\n",
    "targets_2021_path = \"../data/filtered/targets_2021\"\n",
    "\n",
    "# Listar arquivos\n",
    "images_2016_files = set(os.listdir(images_2016_path))\n",
    "targets_2016_files = set(os.listdir(targets_2016_path))\n",
    "images_2021_files = set(os.listdir(images_2021_path))\n",
    "targets_2021_files = set(os.listdir(targets_2021_path))\n",
    "\n",
    "# Mostrar resultados\n",
    "print(\"2016 Images:\", len(images_2016_files))\n",
    "print(\"2016 Targets:\", len(targets_2016_files))\n",
    "print(\"2021 Images:\", len(images_2021_files))\n",
    "print(\"2021 Targets:\", len(targets_2021_files))"
   ]
  },
  {
   "cell_type": "code",
   "execution_count": 4,
   "id": "65acdd38-1879-4018-b6d3-eaff94936e7d",
   "metadata": {},
   "outputs": [
    {
     "name": "stdout",
     "output_type": "stream",
     "text": [
      "Extra Images in 2016 (lat/lon): {'.DS_Store'}\n",
      "Extra Targets in 2016 (lat/lon): set()\n",
      "Extra Images in 2021 (lat/lon): {'.DS_Store'}\n",
      "Extra Targets in 2021 (lat/lon): set()\n"
     ]
    }
   ],
   "source": [
    "import os\n",
    "\n",
    "# Caminhos das pastas\n",
    "images_2016_path = \"../data/filtered/images_2016\"\n",
    "targets_2016_path = \"../data/filtered/targets_2016\"\n",
    "images_2021_path = \"../data/filtered/images_2021\"\n",
    "targets_2021_path = \"../data/filtered/targets_2021\"\n",
    "\n",
    "# Função para extrair latitude e longitude do nome do arquivo\n",
    "def extract_lat_lon(filename, prefix):\n",
    "    parts = filename.replace(prefix, \"\").split(\"_\")\n",
    "    lat_lon = \"_\".join(parts[:2])  # Pega latitude e longitude\n",
    "    return lat_lon\n",
    "\n",
    "# Comparar para 2016\n",
    "image_lat_lon_2016 = {\n",
    "    extract_lat_lon(f, \"Landsat8_SR_RGB_\") for f in os.listdir(images_2016_path)\n",
    "}\n",
    "target_lat_lon_2016 = {\n",
    "    extract_lat_lon(f, \"Deforestation_\") for f in os.listdir(targets_2016_path)\n",
    "}\n",
    "\n",
    "# Comparar para 2021\n",
    "image_lat_lon_2021 = {\n",
    "    extract_lat_lon(f, \"Landsat8_SR_RGB_\") for f in os.listdir(images_2021_path)\n",
    "}\n",
    "target_lat_lon_2021 = {\n",
    "    extract_lat_lon(f, \"Deforestation_\") for f in os.listdir(targets_2021_path)\n",
    "}\n",
    "\n",
    "# Identificar pares sem correspondência\n",
    "extra_images_2016 = image_lat_lon_2016 - target_lat_lon_2016\n",
    "extra_targets_2016 = target_lat_lon_2016 - image_lat_lon_2016\n",
    "extra_images_2021 = image_lat_lon_2021 - target_lat_lon_2021\n",
    "extra_targets_2021 = target_lat_lon_2021 - image_lat_lon_2021\n",
    "\n",
    "# Resultados\n",
    "print(\"Extra Images in 2016 (lat/lon):\", extra_images_2016)\n",
    "print(\"Extra Targets in 2016 (lat/lon):\", extra_targets_2016)\n",
    "print(\"Extra Images in 2021 (lat/lon):\", extra_images_2021)\n",
    "print(\"Extra Targets in 2021 (lat/lon):\", extra_targets_2021)"
   ]
  },
  {
   "cell_type": "code",
   "execution_count": null,
   "id": "ba56e649-2d1c-422c-8cd3-989d7a7fbe3b",
   "metadata": {},
   "outputs": [],
   "source": []
  }
 ],
 "metadata": {
  "kernelspec": {
   "display_name": "Python 3 (ipykernel)",
   "language": "python",
   "name": "python3"
  },
  "language_info": {
   "codemirror_mode": {
    "name": "ipython",
    "version": 3
   },
   "file_extension": ".py",
   "mimetype": "text/x-python",
   "name": "python",
   "nbconvert_exporter": "python",
   "pygments_lexer": "ipython3",
   "version": "3.10.6"
  }
 },
 "nbformat": 4,
 "nbformat_minor": 5
}
