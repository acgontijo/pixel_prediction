{
 "cells": [
  {
   "cell_type": "code",
   "execution_count": null,
   "metadata": {},
   "outputs": [],
   "source": [
    "from scripts.inference_preprocess import preprocess_single_image\n",
    "from tensorflow.keras.models import load_model\n",
    "import matplotlib.pyplot as plt"
   ]
  },
  {
   "cell_type": "code",
   "execution_count": null,
   "metadata": {},
   "outputs": [],
   "source": [
    "# Define the test image path\n",
    "image_path = \"data/test_images/image.jpg\"\n",
    "\n",
    "# Preprocess the image\n",
    "preprocessed_image = preprocess_single_image(image_path)\n",
    "\n",
    "print(f\"Preprocessed image shape: {preprocessed_image.shape}\")"
   ]
  },
  {
   "cell_type": "code",
   "execution_count": null,
   "metadata": {},
   "outputs": [],
   "source": [
    "# Load the trained model\n",
    "model = load_model(\"models/trained_model.keras\")\n",
    "\n",
    "# Predict\n",
    "prediction = model.predict(preprocessed_image)\n",
    "\n",
    "print(f\"Prediction shape: {prediction.shape}\")"
   ]
  },
  {
   "cell_type": "code",
   "execution_count": null,
   "metadata": {},
   "outputs": [],
   "source": [
    "plt.imshow(prediction[0, :, :, 0], cmap=\"gray\")  # Adjust based on your model's output\n",
    "plt.title(\"Predicted Mask\")\n",
    "plt.show()"
   ]
  }
 ],
 "metadata": {
  "language_info": {
   "name": "python"
  }
 },
 "nbformat": 4,
 "nbformat_minor": 2
}
